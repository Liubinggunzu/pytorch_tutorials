{
 "cells": [
  {
   "cell_type": "code",
   "execution_count": 21,
   "metadata": {},
   "outputs": [],
   "source": [
    "import torch\n",
    "import torch.nn as nn\n",
    "import torch.optim as optim\n",
    "from torch.autograd import Variable\n",
    "# load functional definitions for activations like softmax\n",
    "import torch.nn.functional as F\n",
    "# print utilities with json\n",
    "import json\n",
    "import numpy as np\n",
    "import matplotlib.pyplot as plt\n",
    "from random import shuffle\n",
    "import timeit\n",
    "%matplotlib inline"
   ]
  },
  {
   "cell_type": "markdown",
   "metadata": {},
   "source": [
    "# 1. Quick intro: The simplicity of running an RNN in PyTorch"
   ]
  },
  {
   "cell_type": "code",
   "execution_count": 65,
   "metadata": {},
   "outputs": [
    {
     "name": "stdout",
     "output_type": "stream",
     "text": [
      "fake data tensor size:  torch.Size([4, 3])\n"
     ]
    }
   ],
   "source": [
    "# We instantiate an RNN layer with the RNN API from nn module\n",
    "rnn_layer = nn.RNN(input_size=3, hidden_size=3, num_layers=1, batch_first=True)\n",
    "\n",
    "# Make some fake data\n",
    "fake_data = [[1, 2, 3], [4, 5, 6], [7, 8, 9], [0, 1, 1]]\n",
    "fake_data = torch.FloatTensor(fake_data)\n",
    "print('fake data tensor size: ', fake_data.size())"
   ]
  },
  {
   "cell_type": "markdown",
   "metadata": {},
   "source": [
    "### 1) Iterate with your own loop (yesss)"
   ]
  },
  {
   "cell_type": "code",
   "execution_count": 68,
   "metadata": {},
   "outputs": [
    {
     "name": "stdout",
     "output_type": "stream",
     "text": [
      "[[ 0.95493919  0.93462884  0.42043793]\n",
      " [ 0.99886817  0.99992657  0.95321184]\n",
      " [ 0.9999764   0.99999982  0.98929018]\n",
      " [ 0.76278824  0.5116421   0.72826672]]\n"
     ]
    }
   ],
   "source": [
    "H_t = []\n",
    "h_t_1 = None\n",
    "for x_t in fake_data:\n",
    "    # turn into 3-D shape [batch_size, seq_len, feat_dim=3]\n",
    "    x_t = Variable(x_t).view(1, -1, 3)\n",
    "    h_t, h_t_1 = rnn_layer(x_t, h_t_1)\n",
    "    H_t.append(h_t.data[0, 0, :].numpy())\n",
    "H_t = np.array(H_t)\n",
    "print(H_t)"
   ]
  },
  {
   "cell_type": "markdown",
   "metadata": {},
   "source": [
    "### 2) Structure your data batching, and leave it to the framework (yesss too)"
   ]
  },
  {
   "cell_type": "code",
   "execution_count": 69,
   "metadata": {},
   "outputs": [
    {
     "name": "stdout",
     "output_type": "stream",
     "text": [
      "[[[ 0.95493919  0.93462884  0.42043793]\n",
      "  [ 0.99886817  0.99992657  0.95321184]\n",
      "  [ 0.9999764   0.99999982  0.98929018]\n",
      "  [ 0.76278824  0.5116421   0.72826672]]]\n"
     ]
    }
   ],
   "source": [
    "h_t_1 = None\n",
    "x_t = Variable(fake_data).view(1, -1, 3)\n",
    "H_t, h_t_1 = rnn_layer(x_t, h_t_1)\n",
    "print(H_t.data.numpy())"
   ]
  },
  {
   "cell_type": "markdown",
   "metadata": {},
   "source": [
    "# 2. Going Deeper: Character prediction RNN-LSTM\n",
    "\n",
    "#### We'll now proceed to read a text file from our local dir."
   ]
  },
  {
   "cell_type": "code",
   "execution_count": 22,
   "metadata": {},
   "outputs": [
    {
     "name": "stdout",
     "output_type": "stream",
     "text": [
      "text corpus length in chars: 71879\n",
      "total sentences:  1230\n",
      "max sentence len:  75\n",
      "min sentence len:  4\n",
      "Example 10 sentences: \n",
      "1 >> i--down the rabbit-hole\n",
      "2 >> alice was beginning to get very tired of sitting by her sister on the\n",
      "3 >> bank, and of having nothing to do. once or twice she had peeped into the\n",
      "4 >> book her sister was reading, but it had no pictures or conversations in\n",
      "5 >> it, \"and what is the use of a book,\" thought alice, \"without pictures or\n",
      "6 >> conversations?\"\n",
      "7 >> so she was considering in her own mind (as well as she could, for the\n",
      "8 >> day made her feel very sleepy and stupid), whether the pleasure of\n",
      "9 >> making a daisy-chain would be worth the trouble of getting up and\n",
      "10 >> picking the daisies, when suddenly a white rabbit with pink eyes ran\n",
      "total chars: 57\n"
     ]
    }
   ],
   "source": [
    "MIN_CHARS=5\n",
    "with open('aliceinwonderland.txt') as txt_f:\n",
    "    # read the text file\n",
    "    text = txt_f.read().lower()\n",
    "# get sentences on line break (yes, a bit vague, but ok for this)\n",
    "text_sents = list(filter(lambda x: len(x) > 0, text.split('\\n')))\n",
    "print('text corpus length in chars:', len(text))\n",
    "print('total sentences: ', len(text_sents))\n",
    "\n",
    "max_len = max(len(s) for s in text_sents)\n",
    "min_len = min(len(s) for s in text_sents)\n",
    "print('max sentence len: ', max_len)\n",
    "print('min sentence len: ', min_len)\n",
    "\n",
    "print('Example 10 sentences: ')\n",
    "for i, sent in enumerate(text_sents[:10], start=1):\n",
    "    print('{} >> {}'.format(i, sent))\n",
    "\n",
    "chars = sorted(list(set(text)))\n",
    "print('total chars:', len(chars))\n",
    "char2idx = dict((c, i) for i, c in enumerate(chars))\n",
    "idx2char = dict((i, c) for i, c in enumerate(chars))"
   ]
  },
  {
   "cell_type": "code",
   "execution_count": 23,
   "metadata": {},
   "outputs": [
    {
     "name": "stdout",
     "output_type": "stream",
     "text": [
      "{\n",
      "  \"\\n\": 0,\n",
      "  \" \": 1,\n",
      "  \"!\": 2,\n",
      "  \"\\\"\": 3,\n",
      "  \"$\": 4,\n",
      "  \"%\": 5,\n",
      "  \"'\": 6,\n",
      "  \"(\": 7,\n",
      "  \")\": 8,\n",
      "  \"*\": 9,\n",
      "  \",\": 10,\n",
      "  \"-\": 11,\n",
      "  \".\": 12,\n",
      "  \"/\": 13,\n",
      "  \"0\": 14,\n",
      "  \"1\": 15,\n",
      "  \"2\": 16,\n",
      "  \"3\": 17,\n",
      "  \"4\": 18,\n",
      "  \"5\": 19,\n",
      "  \"6\": 20,\n",
      "  \"7\": 21,\n",
      "  \"8\": 22,\n",
      "  \"9\": 23,\n",
      "  \":\": 24,\n",
      "  \";\": 25,\n",
      "  \"?\": 26,\n",
      "  \"@\": 27,\n",
      "  \"[\": 28,\n",
      "  \"]\": 29,\n",
      "  \"_\": 30,\n",
      "  \"a\": 31,\n",
      "  \"b\": 32,\n",
      "  \"c\": 33,\n",
      "  \"d\": 34,\n",
      "  \"e\": 35,\n",
      "  \"f\": 36,\n",
      "  \"g\": 37,\n",
      "  \"h\": 38,\n",
      "  \"i\": 39,\n",
      "  \"j\": 40,\n",
      "  \"k\": 41,\n",
      "  \"l\": 42,\n",
      "  \"m\": 43,\n",
      "  \"n\": 44,\n",
      "  \"o\": 45,\n",
      "  \"p\": 46,\n",
      "  \"q\": 47,\n",
      "  \"r\": 48,\n",
      "  \"s\": 49,\n",
      "  \"t\": 50,\n",
      "  \"u\": 51,\n",
      "  \"v\": 52,\n",
      "  \"w\": 53,\n",
      "  \"x\": 54,\n",
      "  \"y\": 55,\n",
      "  \"z\": 56\n",
      "}\n"
     ]
    }
   ],
   "source": [
    "# We'll print the char2idx to grasp how it looks like\n",
    "print(json.dumps(char2idx, indent=2))"
   ]
  },
  {
   "cell_type": "code",
   "execution_count": 24,
   "metadata": {},
   "outputs": [
    {
     "name": "stdout",
     "output_type": "stream",
     "text": [
      "nb sequences: 23947\n",
      "Vectorization...\n",
      "Done vectorizing...\n",
      "X data tensor shape:  (23947, 40, 57)\n",
      "y data tensor shape:  (23947, 57)\n"
     ]
    }
   ],
   "source": [
    "# STATIC GRAPH PROCEDURE to inject data\n",
    "# taken from Keras example https://github.com/fchollet/keras/blob/master/examples/lstm_text_generation.py\n",
    "# ----------------------------------------------------------------\n",
    "# cut the text in semi-redundant sequences of maxlen characters\n",
    "maxlen = 40\n",
    "step = 3\n",
    "sentences = []\n",
    "next_chars = []\n",
    "for i in range(0, len(text) - maxlen, step):\n",
    "    sentences.append(text[i: i + maxlen])\n",
    "    next_chars.append(text[i + maxlen])\n",
    "print('nb sequences:', len(sentences))\n",
    "\n",
    "print('Vectorization...')\n",
    "X = np.zeros((len(sentences), maxlen, len(chars)), dtype=np.bool)\n",
    "y = np.zeros((len(sentences), len(chars)), dtype=np.bool)\n",
    "for i, sentence in enumerate(sentences):\n",
    "    for t, char in enumerate(sentence):\n",
    "        X[i, t, char2idx[char]] = 1\n",
    "    y[i, char2idx[next_chars[i]]] = 1\n",
    "print('Done vectorizing...')\n",
    "print('X data tensor shape: ', X.shape)\n",
    "print('y data tensor shape: ', y.shape)"
   ]
  },
  {
   "cell_type": "markdown",
   "metadata": {},
   "source": [
    "**Note how we had to apply a certain maximum sequence length (40), and then we've built a tensor of input chunks of chars X, and a tensor of next chars x[t] named y**\n",
    "\n",
    "### Gimme some PyTorch, please\n",
    "\n",
    "Now we can unleash PyTorch capabilities to define the char RNN very simplistically, and process sequences **with true variable length!**"
   ]
  },
  {
   "cell_type": "code",
   "execution_count": 25,
   "metadata": {
    "collapsed": true
   },
   "outputs": [],
   "source": [
    "# Make a sentence encoder helper function\n",
    "def encode_sent(sent):\n",
    "    x_seq = []\n",
    "    for ch in sent:\n",
    "        x_seq.append(char2idx[ch])\n",
    "    return x_seq"
   ]
  },
  {
   "cell_type": "code",
   "execution_count": 26,
   "metadata": {},
   "outputs": [
    {
     "name": "stdout",
     "output_type": "stream",
     "text": [
      "Resulting encoded sequences:  1230\n",
      "Example 3 encoded sequences: \n",
      "[39, 11, 11, 34, 45, 53, 44, 1, 50, 38, 35, 1, 48, 31, 32, 32, 39, 50, 11, 38, 45, 42, 35]\n",
      "[31, 42, 39, 33, 35, 1, 53, 31, 49, 1, 32, 35, 37, 39, 44, 44, 39, 44, 37, 1, 50, 45, 1, 37, 35, 50, 1, 52, 35, 48, 55, 1, 50, 39, 48, 35, 34, 1, 45, 36, 1, 49, 39, 50, 50, 39, 44, 37, 1, 32, 55, 1, 38, 35, 48, 1, 49, 39, 49, 50, 35, 48, 1, 45, 44, 1, 50, 38, 35]\n",
      "[32, 31, 44, 41, 10, 1, 31, 44, 34, 1, 45, 36, 1, 38, 31, 52, 39, 44, 37, 1, 44, 45, 50, 38, 39, 44, 37, 1, 50, 45, 1, 34, 45, 12, 1, 45, 44, 33, 35, 1, 45, 48, 1, 50, 53, 39, 33, 35, 1, 49, 38, 35, 1, 38, 31, 34, 1, 46, 35, 35, 46, 35, 34, 1, 39, 44, 50, 45, 1, 50, 38, 35]\n"
     ]
    }
   ],
   "source": [
    "X = []\n",
    "for i, sentence in enumerate(text_sents):\n",
    "    # encode each sentence into its char integer code from char2idx dictionary\n",
    "    X.append(encode_sent(sentence))\n",
    "print('Resulting encoded sequences: ', len(X))\n",
    "print('Example 3 encoded sequences: ')\n",
    "for n, sent in enumerate(X[:3], start=1):\n",
    "    print(sent)"
   ]
  },
  {
   "cell_type": "markdown",
   "metadata": {},
   "source": [
    "### Building our char-RNN"
   ]
  },
  {
   "cell_type": "code",
   "execution_count": 27,
   "metadata": {},
   "outputs": [
    {
     "name": "stdout",
     "output_type": "stream",
     "text": [
      "charRNN (\n",
      "  (emb): Embedding(57, 15)\n",
      "  (lstm): LSTM(15, 100, batch_first=True)\n",
      "  (fc): Linear (100 -> 57)\n",
      ")\n"
     ]
    }
   ],
   "source": [
    "class charRNN(nn.Module):\n",
    "    def __init__(self, char_vocab_size, emb_size=15,\n",
    "                 rnn_size=128, rnn_layers=1, rnn_dropout=0.):\n",
    "        super(charRNN, self).__init__()\n",
    "        # build character Embedding layer\n",
    "        self.emb = nn.Embedding(char_vocab_size, emb_size)\n",
    "        self.rnn_layers = rnn_layers\n",
    "        self.rnn_size = rnn_size\n",
    "        # LSTM layers\n",
    "        self.lstm = nn.LSTM(input_size=emb_size,\n",
    "                            hidden_size=rnn_size,\n",
    "                            num_layers=rnn_layers,\n",
    "                            dropout=rnn_dropout,\n",
    "                            batch_first=True,\n",
    "                            bidirectional=False)\n",
    "        # FC output layer into num classes (vocab size)\n",
    "        self.fc = nn.Linear(rnn_size, char_vocab_size)\n",
    "    \n",
    "    def forward(self, seq, states=None):\n",
    "        # input tensor is of shape [batch_size, seq_len]\n",
    "        # it is a LongTensor containing an integer idx per char per seq\n",
    "        assert len(seq.size()) == 2, seq.size()\n",
    "        # project seq through embedding layer\n",
    "        emb_ch = self.emb(seq)\n",
    "        # emb_ch ~ [batch_size, seq_len, emb_size]\n",
    "        H_t, states = self.lstm(emb_ch, states)\n",
    "        # H_t ~ [batch_size, seq_len, rnn_size]\n",
    "        # unroll tensor to 2-D to adjust to FC nature\n",
    "        H_t_u = H_t.contiguous().view(-1, H_t.size(-1))\n",
    "        # H_t_u ~ [batch_size x seq_len, rnn_size]\n",
    "        y_t = F.log_softmax(self.fc(H_t_u))\n",
    "        # return output predicted probs and rnn states\n",
    "        return y_t, states\n",
    "\n",
    "    def init_hidden_zero(self, curr_bsz):\n",
    "        return (Variable(torch.zeros(self.rnn_layers, curr_bsz, self.rnn_size)),\n",
    "                Variable(torch.zeros(self.rnn_layers, curr_bsz, self.rnn_size)))\n",
    "        \n",
    "# instance our lstm model\n",
    "char_lstm = charRNN(len(char2idx), rnn_size=100, rnn_dropout=0.)\n",
    "print(char_lstm)\n",
    "\n",
    "# HELPER FUNCTION WE'LL USE WE'LL SEE WHERE\n",
    "def repackage_hidden(h):\n",
    "    # https://github.com/pytorch/examples/blob/master/word_language_model/main.py\n",
    "    \"\"\"Wraps hidden states in new Variables, to detach them from their history.\"\"\"\n",
    "    if type(h) == Variable:\n",
    "        return Variable(h.data)\n",
    "    else:\n",
    "        return tuple(repackage_hidden(v) for v in h)"
   ]
  },
  {
   "cell_type": "code",
   "execution_count": 28,
   "metadata": {
    "collapsed": true
   },
   "outputs": [],
   "source": [
    "# build a sentence decoder function to simplify our future calls to check predictions\n",
    "def decode_pred_sent(pred_sent):\n",
    "    dec_sent = ''\n",
    "    for idx in pred_sent:\n",
    "        dec_sent += idx2char[idx]\n",
    "    return dec_sent"
   ]
  },
  {
   "cell_type": "code",
   "execution_count": 47,
   "metadata": {},
   "outputs": [
    {
     "name": "stdout",
     "output_type": "stream",
     "text": [
      "resulting text:  i found a door |>about fifteen inches high, and when she was nothing so she had not a curious feeling!\" said alice to \n"
     ]
    }
   ],
   "source": [
    "# Make a text prediction function\n",
    "def predict_text_from_seed(model, text_seed='alice was beginning ', num_preds=20):\n",
    "    model.eval()\n",
    "    # begin heating the lstm with some seed text and predict next num_preds chars\n",
    "    enc_seed = encode_sent(text_seed)\n",
    "\n",
    "    # first make the warm up to save into the LSTM states the seed\n",
    "    states = None\n",
    "    for code in enc_seed:\n",
    "        # please note the Volatile keyword: we just want inference, not backprop\n",
    "        code = Variable(torch.LongTensor([code]).view(1, 1), volatile=True)\n",
    "        pred_ch, states = model(code, states)\n",
    "\n",
    "    pred_ch = torch.max(pred_ch, dim=-1)[1]\n",
    "    # |> symbol serves as a simple prompt to check where does it start the prediction\n",
    "    resulting_pred = text_seed + '|>' + idx2char[pred_ch.data[0]]\n",
    "    # Now iterate char by char in a feedback fashion\n",
    "    for n in range(num_preds):\n",
    "        pred_ch, states = model(pred_ch.view(1, 1), states)\n",
    "        pred_ch = torch.max(pred_ch, dim=-1)[1]\n",
    "        pred_idx = pred_ch.data[0]\n",
    "        resulting_pred += idx2char[pred_idx]\n",
    "    return resulting_pred\n",
    "\n",
    "# predict some chars w/ RANDOM weights\n",
    "print('resulting text: ', predict_text_from_seed(char_lstm, 'i found a door ', num_preds=100))"
   ]
  },
  {
   "cell_type": "markdown",
   "metadata": {},
   "source": [
    "**Observe how we can iterate with external for loops to the LSTM structure, feeding back the data from time-step to time-step, contrary to TensorFlow methodology.**"
   ]
  },
  {
   "cell_type": "markdown",
   "metadata": {},
   "source": [
    "### Training the model!"
   ]
  },
  {
   "cell_type": "code",
   "execution_count": 30,
   "metadata": {},
   "outputs": [
    {
     "name": "stdout",
     "output_type": "stream",
     "text": [
      "Batch  100/ 100 (epoch   0) loss 2.973\n",
      "Elapsed time for epoch   0: 10.549 s\n",
      "Epoch 0 result ------------------------------\n",
      "alice was beginning to get very tired of sitting by her sister on the|>                              \n",
      "Batch  100/ 100 (epoch   1) loss 2.821\n",
      "Elapsed time for epoch   1: 11.039 s\n",
      "Epoch 1 result ------------------------------\n",
      "alice was beginning to get very tired of sitting by her sister on the|>t ae t ae t ae t ae t ae t ae \n",
      "Batch  100/ 100 (epoch   2) loss 2.256\n",
      "Elapsed time for epoch   2: 12.729 s\n",
      "Epoch 2 result ------------------------------\n",
      "alice was beginning to get very tired of sitting by her sister on the|>the the the the the the the th\n",
      "Batch  100/ 100 (epoch   3) loss 2.258\n",
      "Elapsed time for epoch   3: 13.086 s\n",
      "Epoch 3 result ------------------------------\n",
      "alice was beginning to get very tired of sitting by her sister on the|>the the the the the the the th\n",
      "Batch  100/ 100 (epoch   4) loss 2.636\n",
      "Elapsed time for epoch   4: 13.438 s\n",
      "Epoch 4 result ------------------------------\n",
      "alice was beginning to get very tired of sitting by her sister on the|>the the the the the the the th\n",
      "Batch  100/ 100 (epoch   5) loss 2.301\n",
      "Elapsed time for epoch   5: 14.351 s\n",
      "Epoch 5 result ------------------------------\n",
      "alice was beginning to get very tired of sitting by her sister on the|>the she she she she she she sh\n",
      "Batch  100/ 100 (epoch   6) loss 1.934\n",
      "Elapsed time for epoch   6: 15.225 s\n",
      "Epoch 6 result ------------------------------\n",
      "alice was beginning to get very tired of sitting by her sister on the|>the the the the the the the th\n",
      "Batch  100/ 100 (epoch   7) loss 2.451\n",
      "Elapsed time for epoch   7: 12.443 s\n",
      "Epoch 7 result ------------------------------\n",
      "alice was beginning to get very tired of sitting by her sister on the|>the the the was and the the th\n",
      "Batch  100/ 100 (epoch   8) loss 1.882\n",
      "Elapsed time for epoch   8: 12.806 s\n",
      "Epoch 8 result ------------------------------\n",
      "alice was beginning to get very tired of sitting by her sister on the|>was alling the was alling the \n",
      "Batch  100/ 100 (epoch   9) loss 1.962\n",
      "Elapsed time for epoch   9: 13.439 s\n",
      "Epoch 9 result ------------------------------\n",
      "alice was beginning to get very tired of sitting by her sister on the|>was and the was and the was an\n",
      "Batch  100/ 100 (epoch  10) loss 1.805\n",
      "Elapsed time for epoch  10: 13.081 s\n",
      "Epoch 10 result ------------------------------\n",
      "alice was beginning to get very tired of sitting by her sister on the|>was and the was and the was an\n",
      "Batch  100/ 100 (epoch  11) loss 1.957\n",
      "Elapsed time for epoch  11: 13.110 s\n",
      "Epoch 11 result ------------------------------\n",
      "alice was beginning to get very tired of sitting by her sister on the|>was and the was and the was an\n",
      "Batch  100/ 100 (epoch  12) loss 1.828\n",
      "Elapsed time for epoch  12: 13.309 s\n",
      "Epoch 12 result ------------------------------\n",
      "alice was beginning to get very tired of sitting by her sister on the|>was and the was and the was an\n",
      "Batch  100/ 100 (epoch  13) loss 1.520\n",
      "Elapsed time for epoch  13: 16.089 s\n",
      "Epoch 13 result ------------------------------\n",
      "alice was beginning to get very tired of sitting by her sister on the|>was and the was and the was an\n",
      "Batch  100/ 100 (epoch  14) loss 1.746\n",
      "Elapsed time for epoch  14: 15.033 s\n",
      "Epoch 14 result ------------------------------\n",
      "alice was beginning to get very tired of sitting by her sister on the|>was and the was and the was an\n",
      "Batch  100/ 100 (epoch  15) loss 1.987\n",
      "Elapsed time for epoch  15: 14.062 s\n",
      "Epoch 15 result ------------------------------\n",
      "alice was beginning to get very tired of sitting by her sister on the|>was and the was and the was an\n",
      "Batch  100/ 100 (epoch  16) loss 1.964\n",
      "Elapsed time for epoch  16: 16.067 s\n",
      "Epoch 16 result ------------------------------\n",
      "alice was beginning to get very tired of sitting by her sister on the|>was and the was and the was an\n",
      "Batch  100/ 100 (epoch  17) loss 1.798\n",
      "Elapsed time for epoch  17: 17.796 s\n",
      "Epoch 17 result ------------------------------\n",
      "alice was beginning to get very tired of sitting by her sister on the|>was and the was and the was an\n",
      "Batch  100/ 100 (epoch  18) loss 1.668\n",
      "Elapsed time for epoch  18: 12.823 s\n",
      "Epoch 18 result ------------------------------\n",
      "alice was beginning to get very tired of sitting by her sister on the|>was and the was and the was an\n",
      "Batch  100/ 100 (epoch  19) loss 1.399\n",
      "Elapsed time for epoch  19: 12.758 s\n",
      "Epoch 19 result ------------------------------\n",
      "alice was beginning to get very tired of sitting by her sister on the|>was and the was and the was an\n"
     ]
    }
   ],
   "source": [
    "def train_seqbyseq_epoch(X, curr_epoch, model, opt, log_freq, stateful=False):\n",
    "    # A simple training loop sequence by sequence will serve our purposes\n",
    "    # YES! THAT SIMPLE!!\n",
    "    # specify we are in train mode (this will set Dropout/BN behaviors to train mode)\n",
    "    model.train()\n",
    "    states = model.init_hidden_zero(1)\n",
    "    tr_losses = []\n",
    "    for bidx, x in enumerate(X, start=1):\n",
    "        # clean previous gradients in graph\n",
    "        opt.zero_grad()\n",
    "        # build input x and output y\n",
    "        # output is just a shifted by 1 timestep version of x\n",
    "        y = x[1:]\n",
    "        x = x[:-1]\n",
    "        # format the PyTorch Variables\n",
    "        y = Variable(torch.LongTensor(y)).view(-1) # y ~ [seq_len]\n",
    "        x = Variable(torch.LongTensor(x)).view(1, -1) # x ~ [1, seq_len]\n",
    "        # (1) forward sequence\n",
    "        if not stateful:\n",
    "            pred, _ = model(x, states)\n",
    "        else:\n",
    "            pred, states = model(x, states)\n",
    "            states = repackage_hidden(states)\n",
    "            #raise NotImplementedError('Missing stateful implementation')\n",
    "        \n",
    "        # (2) compute loss: Negative Log Likelihood of correct classes\n",
    "        loss = F.nll_loss(pred, y)\n",
    "        # (3) backprop gradients\n",
    "        loss.backward()\n",
    "        # (4) update parameters\n",
    "        opt.step()\n",
    "        if bidx % log_freq == 0 or bidx >= len(X):\n",
    "            tr_losses.append(loss.data[0])\n",
    "            print('Batch {:4d}/{:4d} (epoch {:3d}) loss {:.3f}'.format(bidx,\n",
    "                                                                       len(X),\n",
    "                                                                       curr_epoch,\n",
    "                                                                       tr_losses[-1]))\n",
    "    return tr_losses\n",
    "            \n",
    "import timeit # time epochs\n",
    "\n",
    "char_lstm = charRNN(len(char2idx), rnn_size=100, rnn_dropout=0.)\n",
    "NUM_EPOCHS=20\n",
    "LOG_FREQ=400\n",
    "# we can limit the samples in the dataset to speed up training (this is a toy example, remember)\n",
    "max_samples = 100\n",
    "tr_X = X[:max_samples]\n",
    "opt = optim.Adam(char_lstm.parameters(), lr=0.001)\n",
    "beg_t = timeit.default_timer()\n",
    "tr_losses = []\n",
    "for epoch in range(NUM_EPOCHS):\n",
    "    # shuffle sentences\n",
    "    shuffle(tr_X)\n",
    "    tr_losses += train_seqbyseq_epoch(tr_X, epoch, char_lstm, opt, 400, False)\n",
    "    end_t = timeit.default_timer()\n",
    "    print('Elapsed time for epoch {:3d}: {:.3f} s'.format(epoch, end_t - beg_t))\n",
    "    beg_t = end_t\n",
    "    # see predictions change\n",
    "    print('Epoch {} result {}'.format(epoch, '-' * 30))\n",
    "    print(predict_text_from_seed(char_lstm, text_sents[1], num_preds=30))"
   ]
  },
  {
   "cell_type": "code",
   "execution_count": 31,
   "metadata": {},
   "outputs": [
    {
     "name": "stdout",
     "output_type": "stream",
     "text": [
      "she found a door |>nd the was and the was and the was and the was and the was and the was and the was and the was and t\n",
      "alice was beginning to get very tired of sitting by her sister on the|>was and the was and the was and the was and the was and the was and the was and the was and the was \n"
     ]
    }
   ],
   "source": [
    "print(predict_text_from_seed(char_lstm, 'she found a door ', num_preds=100))\n",
    "print(predict_text_from_seed(char_lstm, text_sents[1], num_preds=100))"
   ]
  },
  {
   "cell_type": "code",
   "execution_count": 32,
   "metadata": {
    "scrolled": true
   },
   "outputs": [
    {
     "data": {
      "text/plain": [
       "[<matplotlib.lines.Line2D at 0x11de2dcc0>]"
      ]
     },
     "execution_count": 32,
     "metadata": {},
     "output_type": "execute_result"
    },
    {
     "data": {
      "image/png": "[encoded data removed]",
      "text/plain": [
       "<matplotlib.figure.Figure at 0x11de2d470>"
      ]
     },
     "metadata": {},
     "output_type": "display_data"
    }
   ],
   "source": [
    "plt.title('Seqbyseq training curve')\n",
    "plt.ylabel('NLLLoss')\n",
    "plt.xlabel('Log tick of freq {}'.format(LOG_FREQ))\n",
    "plt.plot(tr_losses)"
   ]
  },
  {
   "cell_type": "markdown",
   "metadata": {},
   "source": [
    "### Well look at that learning noise... :( Let's smooth the learning with better updates"
   ]
  },
  {
   "cell_type": "code",
   "execution_count": 33,
   "metadata": {},
   "outputs": [
    {
     "name": "stdout",
     "output_type": "stream",
     "text": [
      "Batch   10/  10 (epoch   0) loss 3.921\n",
      "Elapsed time for epoch   0: 1.363 s\n",
      "Epoch 0 result ------------------------------\n",
      "alice was beginning to get very tired of sitting by her sister on the|> an an  an  an  an  an  an  an\n",
      "Batch   10/  10 (epoch   1) loss 3.291\n",
      "Elapsed time for epoch   1: 1.411 s\n",
      "Epoch 1 result ------------------------------\n",
      "alice was beginning to get very tired of sitting by her sister on the|>                              \n",
      "Batch   10/  10 (epoch   2) loss 2.935\n",
      "Elapsed time for epoch   2: 1.435 s\n",
      "Epoch 2 result ------------------------------\n",
      "alice was beginning to get very tired of sitting by her sister on the|>                              \n",
      "Batch   10/  10 (epoch   3) loss 2.996\n",
      "Elapsed time for epoch   3: 1.398 s\n",
      "Epoch 3 result ------------------------------\n",
      "alice was beginning to get very tired of sitting by her sister on the|>                              \n",
      "Batch   10/  10 (epoch   4) loss 2.759\n",
      "Elapsed time for epoch   4: 1.614 s\n",
      "Epoch 4 result ------------------------------\n",
      "alice was beginning to get very tired of sitting by her sister on the|>                              \n",
      "Batch   10/  10 (epoch   5) loss 2.870\n",
      "Elapsed time for epoch   5: 1.651 s\n",
      "Epoch 5 result ------------------------------\n",
      "alice was beginning to get very tired of sitting by her sister on the|>                              \n",
      "Batch   10/  10 (epoch   6) loss 2.750\n",
      "Elapsed time for epoch   6: 1.627 s\n",
      "Epoch 6 result ------------------------------\n",
      "alice was beginning to get very tired of sitting by her sister on the|> a a a a a a a a a a a a a a a\n",
      "Batch   10/  10 (epoch   7) loss 2.414\n",
      "Elapsed time for epoch   7: 1.742 s\n",
      "Epoch 7 result ------------------------------\n",
      "alice was beginning to get very tired of sitting by her sister on the|> o o o o o o o o o o o o o o o\n",
      "Batch   10/  10 (epoch   8) loss 2.590\n",
      "Elapsed time for epoch   8: 1.661 s\n",
      "Epoch 8 result ------------------------------\n",
      "alice was beginning to get very tired of sitting by her sister on the|> ae t ae t ae t ae t ae t ae t\n",
      "Batch   10/  10 (epoch   9) loss 2.591\n",
      "Elapsed time for epoch   9: 1.751 s\n",
      "Epoch 9 result ------------------------------\n",
      "alice was beginning to get very tired of sitting by her sister on the|>t o o o o o o o o o o o o o o \n",
      "Batch   10/  10 (epoch  10) loss 2.613\n",
      "Elapsed time for epoch  10: 1.680 s\n",
      "Epoch 10 result ------------------------------\n",
      "alice was beginning to get very tired of sitting by her sister on the|>the the the the the the the th\n",
      "Batch   10/  10 (epoch  11) loss 2.379\n",
      "Elapsed time for epoch  11: 1.708 s\n",
      "Epoch 11 result ------------------------------\n",
      "alice was beginning to get very tired of sitting by her sister on the|>the the the the the the the th\n",
      "Batch   10/  10 (epoch  12) loss 2.363\n",
      "Elapsed time for epoch  12: 1.913 s\n",
      "Epoch 12 result ------------------------------\n",
      "alice was beginning to get very tired of sitting by her sister on the|>the the the the the the the th\n",
      "Batch   10/  10 (epoch  13) loss 2.501\n",
      "Elapsed time for epoch  13: 1.991 s\n",
      "Epoch 13 result ------------------------------\n",
      "alice was beginning to get very tired of sitting by her sister on the|>the the the the the the the th\n",
      "Batch   10/  10 (epoch  14) loss 2.635\n",
      "Elapsed time for epoch  14: 1.815 s\n",
      "Epoch 14 result ------------------------------\n",
      "alice was beginning to get very tired of sitting by her sister on the|>the the the the the the the th\n",
      "Batch   10/  10 (epoch  15) loss 2.257\n",
      "Elapsed time for epoch  15: 1.677 s\n",
      "Epoch 15 result ------------------------------\n",
      "alice was beginning to get very tired of sitting by her sister on the|>the the the the the the the th\n",
      "Batch   10/  10 (epoch  16) loss 2.321\n",
      "Elapsed time for epoch  16: 1.642 s\n",
      "Epoch 16 result ------------------------------\n",
      "alice was beginning to get very tired of sitting by her sister on the|>the the the the the the the th\n",
      "Batch   10/  10 (epoch  17) loss 2.438\n",
      "Elapsed time for epoch  17: 1.841 s\n",
      "Epoch 17 result ------------------------------\n",
      "alice was beginning to get very tired of sitting by her sister on the|>the the the the the the the th\n",
      "Batch   10/  10 (epoch  18) loss 2.450\n",
      "Elapsed time for epoch  18: 1.705 s\n",
      "Epoch 18 result ------------------------------\n",
      "alice was beginning to get very tired of sitting by her sister on the|>the the the the the the the th\n",
      "Batch   10/  10 (epoch  19) loss 2.389\n",
      "Elapsed time for epoch  19: 1.857 s\n",
      "Epoch 19 result ------------------------------\n",
      "alice was beginning to get very tired of sitting by her sister on the|>the the the the the the the th\n"
     ]
    }
   ],
   "source": [
    "def train_batches_epoch(X, batch_size, curr_epoch, model, opt, log_freq):\n",
    "    # We still need batching with pytorch to smooth our training in the SGD training\n",
    "    # BUT: Each batch can have a variable length in sequence dimension!!\n",
    "    # specify we are in train mode (this will set Dropout/BN behaviors to train mode)\n",
    "    model.train()\n",
    "    \n",
    "    n_batches = int(np.ceil(len(X) / batch_size))\n",
    "    #print('Number of batches with batch_size {}:{}'.format(batch_size, n_batches))\n",
    "    tr_losses = []\n",
    "    for bidx, b_beg in enumerate(range(0, len(X), batch_size), start=1):\n",
    "        left = min(len(X) - b_beg, batch_size)\n",
    "        states = model.init_hidden_zero(left)\n",
    "        # select batch of sequences of outputs and inputs\n",
    "        x_batch = X[b_beg:b_beg + left]\n",
    "        # get max_len and add PADDING to smaller seqs\n",
    "        max_batch_len = max(len(s) for s in x_batch)\n",
    "        min_batch_len = min(len(s) for s in x_batch)\n",
    "        for s_idx in range(len(x_batch)):\n",
    "            x_batch[s_idx] = [0] * (max_batch_len - len(x_batch[s_idx])) + x_batch[s_idx]\n",
    "        x_batch = np.array(x_batch, dtype=np.int64)\n",
    "        y_batch = x_batch[:, 1:]\n",
    "        x_batch = x_batch[:, :-1]\n",
    "        # clean previous gradients in graph\n",
    "        opt.zero_grad()\n",
    "        # format the PyTorch Variables\n",
    "        y = Variable(torch.from_numpy(y_batch).contiguous()).view(-1) # y ~ [batch_size x seq_len]\n",
    "        x = Variable(torch.from_numpy(x_batch).contiguous()).view(left, -1) # x ~ [batch_size, seq_len]\n",
    "        # (1) forward sequence\n",
    "        pred, _ = model(x, states)\n",
    "        \n",
    "        # (2) compute loss: Negative Log Likelihood of correct classes\n",
    "        loss = F.nll_loss(pred, y)\n",
    "        # (3) backprop gradients\n",
    "        loss.backward()\n",
    "        # (4) update parameters\n",
    "        opt.step()\n",
    "        if bidx % log_freq == 0 or bidx >= n_batches:\n",
    "            tr_losses.append(loss.data[0])\n",
    "            print('Batch {:4d}/{:4d} (epoch {:3d}) loss {:.3f}'.format(bidx,\n",
    "                                                                       n_batches,\n",
    "                                                                       curr_epoch,\n",
    "                                                                       tr_losses[-1]))\n",
    "    return tr_losses\n",
    "\n",
    "\n",
    "char_lstm = charRNN(len(char2idx), rnn_size=100, rnn_dropout=0.)\n",
    "NUM_EPOCHS=20\n",
    "LOG_FREQ=400\n",
    "# we can limit the samples in the dataset to speed up training (this is a toy example, remember)\n",
    "max_samples = 100\n",
    "tr_X = X[:max_samples]\n",
    "opt = optim.Adam(char_lstm.parameters(), lr=0.001)\n",
    "beg_t = timeit.default_timer()\n",
    "b_tr_losses = []\n",
    "for epoch in range(NUM_EPOCHS):\n",
    "    # shuffle sentences\n",
    "    shuffle(tr_X)\n",
    "    b_tr_losses += train_batches_epoch(tr_X, 10, epoch, char_lstm, opt, 400)\n",
    "    end_t = timeit.default_timer()\n",
    "    print('Elapsed time for epoch {:3d}: {:.3f} s'.format(epoch, end_t - beg_t))\n",
    "    beg_t = end_t\n",
    "    # see predictions change\n",
    "    print('Epoch {} result {}'.format(epoch, '-' * 30))\n",
    "    print(predict_text_from_seed(char_lstm, text_sents[1], num_preds=30))"
   ]
  },
  {
   "cell_type": "code",
   "execution_count": 35,
   "metadata": {},
   "outputs": [
    {
     "data": {
      "text/plain": [
       "<matplotlib.legend.Legend at 0x11e2dfb38>"
      ]
     },
     "execution_count": 35,
     "metadata": {},
     "output_type": "execute_result"
    },
    {
     "data": {
      "image/png": "[encoded data removed]",
      "text/plain": [
       "<matplotlib.figure.Figure at 0x11e1cde10>"
      ]
     },
     "metadata": {},
     "output_type": "display_data"
    }
   ],
   "source": [
    "plt.title('Batched training curve')\n",
    "plt.ylabel('NLLLoss')\n",
    "plt.xlabel('Log tick of freq {}'.format(LOG_FREQ))\n",
    "plt.plot(b_tr_losses, label='batched learning')\n",
    "plt.plot(tr_losses, label='sample-wise learning')\n",
    "plt.legend()"
   ]
  },
  {
   "cell_type": "markdown",
   "metadata": {},
   "source": [
    "### Last stage: limiting the max sequence length with statefulness"
   ]
  },
  {
   "cell_type": "code",
   "execution_count": 42,
   "metadata": {},
   "outputs": [],
   "source": [
    "def train_stateful_maxlen_batches_epoch(X, batch_size, max_len, curr_epoch, model, opt, log_freq, clip=0.):\n",
    "    # specify we are in train mode (this will set Dropout/BN behaviors to train mode)\n",
    "    model.train()\n",
    "    # build a super long sequence out of all samples concatenated\n",
    "    X_long = []\n",
    "    for x in X:\n",
    "        X_long += x\n",
    "    # trim to multiple of seqlen x batch_size\n",
    "    X_long = X_long[:batch_size * max_len * (len(X_long) // (batch_size * max_len))]\n",
    "    X_arr = np.array(X_long, dtype=np.int64).reshape((-1, 1))\n",
    "    X_arr = X_arr.reshape((batch_size, -1, 1))\n",
    "    X_arr = np.split(X_arr, X_arr.shape[1] // max_len, axis=1)\n",
    "    X_arr = np.concatenate(X_arr, axis=0)\n",
    "    # print('X_arr shape: ', X_arr.shape)\n",
    "    n_batches = int(np.ceil(X_arr.shape[0] / batch_size))\n",
    "    # print('Number of batches with batch_size {}: {}'.format(batch_size, n_batches))\n",
    "    tr_losses = []\n",
    "    states = model.init_hidden_zero(batch_size)\n",
    "    for bidx, b_beg in enumerate(range(0, X_arr.shape[0], batch_size), start=1):\n",
    "        # select batch of sequences of outputs and inputs\n",
    "        x_batch = X_arr[b_beg:b_beg + batch_size]\n",
    "        x_batch = np.array(x_batch, dtype=np.int64)\n",
    "        y_batch = x_batch[:, 1:]\n",
    "        x_batch = x_batch[:, :-1]\n",
    "        # clean previous gradients in graph\n",
    "        opt.zero_grad()\n",
    "        # format the PyTorch Variables\n",
    "        y = Variable(torch.from_numpy(y_batch).contiguous()).view(-1) # y ~ [batch_size x seq_len]\n",
    "        x = Variable(torch.from_numpy(x_batch).contiguous()).view(batch_size, -1) # x ~ [batch_size, seq_len]\n",
    "        # (1) forward sequence\n",
    "        pred, states = model(x, states)\n",
    "        states = repackage_hidden(states)\n",
    "        # (2) compute loss: Negative Log Likelihood of correct classes\n",
    "        loss = F.nll_loss(pred, y)\n",
    "        # (3) backprop gradients\n",
    "        loss.backward()\n",
    "        if clip > 0:\n",
    "            # `clip_grad_norm` helps prevent the exploding gradient problem in RNNs / LSTMs.\n",
    "            torch.nn.utils.clip_grad_norm(model.parameters(), clip)\n",
    "\n",
    "        # (4) update parameters\n",
    "        opt.step()\n",
    "        if bidx % log_freq == 0 or bidx >= n_batches:\n",
    "            tr_losses.append(loss.data[0])\n",
    "            print('Batch {:4d}/{:4d} (epoch {:3d}) loss {:.3f}'.format(bidx,\n",
    "                                                                       n_batches,\n",
    "                                                                       curr_epoch,\n",
    "                                                                       tr_losses[-1]))\n",
    "    return tr_losses"
   ]
  },
  {
   "cell_type": "code",
   "execution_count": null,
   "metadata": {
    "collapsed": true
   },
   "outputs": [],
   "source": [
    "char_lstm = charRNN(len(char2idx), rnn_size=100, rnn_dropout=0.)\n",
    "NUM_EPOCHS=20\n",
    "LOG_FREQ=400\n",
    "# we can limit the samples in the dataset to speed up training (this is a toy example, remember)\n",
    "max_samples = 100\n",
    "tr_X = X[:max_samples]\n",
    "opt = optim.Adam(char_lstm.parameters(), lr=0.001)\n",
    "beg_t = timeit.default_timer()\n",
    "st_tr_losses = []\n",
    "for epoch in range(NUM_EPOCHS):\n",
    "    # shuffle sentences\n",
    "    shuffle(tr_X)\n",
    "    st_tr_losses += train_stateful_maxlen_batches_epoch(tr_X, 10, 35, epoch, char_lstm, opt, 400)\n",
    "    end_t = timeit.default_timer()\n",
    "    print('Elapsed time for epoch {:3d}: {:.3f} s'.format(epoch, end_t - beg_t))\n",
    "    beg_t = end_t\n",
    "    # see predictions change\n",
    "    print('Epoch {} result {}'.format(epoch, '-' * 30))\n",
    "    print(predict_text_from_seed(char_lstm, text_sents[1], num_preds=30))"
   ]
  },
  {
   "cell_type": "code",
   "execution_count": 37,
   "metadata": {},
   "outputs": [
    {
     "data": {
      "text/plain": [
       "<matplotlib.legend.Legend at 0x11e3d9940>"
      ]
     },
     "execution_count": 37,
     "metadata": {},
     "output_type": "execute_result"
    },
    {
     "data": {
      "image/png": "[encoded data removed]",
      "text/plain": [
       "<matplotlib.figure.Figure at 0x11e2fc160>"
      ]
     },
     "metadata": {},
     "output_type": "display_data"
    }
   ],
   "source": [
    "plt.title('Stateful Batched training curve')\n",
    "plt.ylabel('NLLLoss')\n",
    "plt.xlabel('Log tick of freq {}'.format(LOG_FREQ))\n",
    "plt.plot(b_tr_losses, label='batched learning')\n",
    "plt.plot(st_tr_losses, label='stateful batched learning')\n",
    "plt.plot(tr_losses, label='sample-wise learning')\n",
    "plt.legend()"
   ]
  },
  {
   "cell_type": "code",
   "execution_count": 38,
   "metadata": {},
   "outputs": [
    {
     "name": "stdout",
     "output_type": "stream",
     "text": [
      "Batch   41/  41 (epoch   0) loss 2.239\n",
      "Elapsed time for epoch   0: 1.228 s\n",
      "Epoch 0 result ------------------------------\n",
      "alice was beginning to get very tired of sitting by her sister on the|>she she she she she she she sh\n",
      "Batch   41/  41 (epoch   1) loss 2.024\n",
      "Elapsed time for epoch   1: 1.307 s\n",
      "Epoch 1 result ------------------------------\n",
      "alice was beginning to get very tired of sitting by her sister on the|>to the to the to the to the to\n",
      "Batch   41/  41 (epoch   2) loss 2.120\n",
      "Elapsed time for epoch   2: 1.244 s\n",
      "Epoch 2 result ------------------------------\n",
      "alice was beginning to get very tired of sitting by her sister on the|>to the to the to the to the to\n",
      "Batch   41/  41 (epoch   3) loss 1.877\n",
      "Elapsed time for epoch   3: 1.266 s\n",
      "Epoch 3 result ------------------------------\n",
      "alice was beginning to get very tired of sitting by her sister on the|>was not and the was not and th\n",
      "Batch   41/  41 (epoch   4) loss 1.799\n",
      "Elapsed time for epoch   4: 1.310 s\n",
      "Epoch 4 result ------------------------------\n",
      "alice was beginning to get very tired of sitting by her sister on the|>was not a been a been a been a\n",
      "Batch   41/  41 (epoch   5) loss 1.471\n",
      "Elapsed time for epoch   5: 1.234 s\n",
      "Epoch 5 result ------------------------------\n",
      "alice was beginning to get very tired of sitting by her sister on the|>was the was the was the was th\n",
      "Batch   41/  41 (epoch   6) loss 1.785\n",
      "Elapsed time for epoch   6: 1.442 s\n",
      "Epoch 6 result ------------------------------\n",
      "alice was beginning to get very tired of sitting by her sister on the|>was nothing the to the was not\n",
      "Batch   41/  41 (epoch   7) loss 1.736\n",
      "Elapsed time for epoch   7: 1.355 s\n",
      "Epoch 7 result ------------------------------\n",
      "alice was beginning to get very tired of sitting by her sister on the|>was nother she was nother she \n",
      "Batch   41/  41 (epoch   8) loss 1.836\n",
      "Elapsed time for epoch   8: 1.330 s\n",
      "Epoch 8 result ------------------------------\n",
      "alice was beginning to get very tired of sitting by her sister on the|>was not another she was not an\n",
      "Batch   41/  41 (epoch   9) loss 1.518\n",
      "Elapsed time for epoch   9: 1.387 s\n",
      "Epoch 9 result ------------------------------\n",
      "alice was beginning to get very tired of sitting by her sister on the|>was nothing that she was nothi\n",
      "Batch   41/  41 (epoch  10) loss 1.471\n",
      "Elapsed time for epoch  10: 1.325 s\n",
      "Epoch 10 result ------------------------------\n",
      "alice was beginning to get very tired of sitting by her sister on the|>was not a long the was not a l\n",
      "Batch   41/  41 (epoch  11) loss 1.407\n",
      "Elapsed time for epoch  11: 1.431 s\n",
      "Epoch 11 result ------------------------------\n",
      "alice was beginning to get very tired of sitting by her sister on the|>rabbit was not a lom the rabbi\n",
      "Batch   41/  41 (epoch  12) loss 1.290\n",
      "Elapsed time for epoch  12: 1.343 s\n",
      "Epoch 12 result ------------------------------\n",
      "alice was beginning to get very tired of sitting by her sister on the|>rabbit-hole, and when she was \n",
      "Batch   41/  41 (epoch  13) loss 1.376\n",
      "Elapsed time for epoch  13: 1.406 s\n",
      "Epoch 13 result ------------------------------\n",
      "alice was beginning to get very tired of sitting by her sister on the|>rabbit-hole, and the tried tha\n",
      "Batch   41/  41 (epoch  14) loss 1.386\n",
      "Elapsed time for epoch  14: 1.379 s\n",
      "Epoch 14 result ------------------------------\n",
      "alice was beginning to get very tired of sitting by her sister on the|>rat the table, and the rat the\n",
      "Batch   41/  41 (epoch  15) loss 1.301\n",
      "Elapsed time for epoch  15: 1.349 s\n",
      "Epoch 15 result ------------------------------\n",
      "alice was beginning to get very tired of sitting by her sister on the|>those could not a book-shelves\n",
      "Batch   41/  41 (epoch  16) loss 1.310\n",
      "Elapsed time for epoch  16: 1.429 s\n",
      "Epoch 16 result ------------------------------\n",
      "alice was beginning to get very tired of sitting by her sister on the|>though the though the though t\n",
      "Batch   41/  41 (epoch  17) loss 1.236\n",
      "Elapsed time for epoch  17: 1.373 s\n",
      "Epoch 17 result ------------------------------\n",
      "alice was beginning to get very tired of sitting by her sister on the|>thought alice was not a low ha\n",
      "Batch   41/  41 (epoch  18) loss 1.418\n",
      "Elapsed time for epoch  18: 1.430 s\n",
      "Epoch 18 result ------------------------------\n",
      "alice was beginning to get very tired of sitting by her sister on the|>rabbit was too some too larger\n",
      "Batch   41/  41 (epoch  19) loss 1.136\n",
      "Elapsed time for epoch  19: 1.360 s\n",
      "Epoch 19 result ------------------------------\n",
      "alice was beginning to get very tired of sitting by her sister on the|>well was nothing that she came\n"
     ]
    }
   ],
   "source": [
    "# Now max_len = 15, shorter to backprop less tsteps\n",
    "char_lstm = charRNN(len(char2idx), rnn_size=100, rnn_dropout=0.)\n",
    "NUM_EPOCHS=20\n",
    "LOG_FREQ=400\n",
    "# we can limit the samples in the dataset to speed up training (this is a toy example, remember)\n",
    "max_samples = 100\n",
    "tr_X = X[:max_samples]\n",
    "opt = optim.RMSprop(char_lstm.parameters(), lr=0.01)\n",
    "beg_t = timeit.default_timer()\n",
    "st_sh_tr_losses = []\n",
    "for epoch in range(NUM_EPOCHS):\n",
    "    # shuffle sentences\n",
    "    shuffle(tr_X)\n",
    "    st_sh_tr_losses += train_stateful_maxlen_batches_epoch(tr_X, 10, 15, epoch, char_lstm, opt, 400)\n",
    "    end_t = timeit.default_timer()\n",
    "    print('Elapsed time for epoch {:3d}: {:.3f} s'.format(epoch, end_t - beg_t))\n",
    "    beg_t = end_t\n",
    "    # see predictions change\n",
    "    print('Epoch {} result {}'.format(epoch, '-' * 30))\n",
    "    print(predict_text_from_seed(char_lstm, text_sents[1], num_preds=30))"
   ]
  },
  {
   "cell_type": "code",
   "execution_count": 39,
   "metadata": {},
   "outputs": [
    {
     "data": {
      "text/plain": [
       "<matplotlib.legend.Legend at 0x11e62b8d0>"
      ]
     },
     "execution_count": 39,
     "metadata": {},
     "output_type": "execute_result"
    },
    {
     "data": {
      "image/png": "[encoded data removed]",
      "text/plain": [
       "<matplotlib.figure.Figure at 0x11e2fc748>"
      ]
     },
     "metadata": {},
     "output_type": "display_data"
    }
   ],
   "source": [
    "plt.title('Stateful Batched training curve')\n",
    "plt.ylabel('NLLLoss')\n",
    "plt.xlabel('Log tick of freq {}'.format(LOG_FREQ))\n",
    "plt.plot(b_tr_losses, label='batched learning')\n",
    "plt.plot(st_tr_losses, label='stateful-35 batched learning')\n",
    "plt.plot(st_sh_tr_losses, label='stateful-15 batched learning')\n",
    "plt.plot(tr_losses, label='sample-wise learning')\n",
    "plt.legend()"
   ]
  },
  {
   "cell_type": "code",
   "execution_count": 40,
   "metadata": {},
   "outputs": [
    {
     "name": "stdout",
     "output_type": "stream",
     "text": [
      "Batch   62/  62 (epoch   0) loss 2.603\n",
      "Elapsed time for epoch   0: 1.273 s\n",
      "Epoch 0 result ------------------------------\n",
      "alice was beginning to get very tired of sitting by her sister on the|>the the the the the the the th\n",
      "Batch   62/  62 (epoch   1) loss 2.097\n",
      "Elapsed time for epoch   1: 1.303 s\n",
      "Epoch 1 result ------------------------------\n",
      "alice was beginning to get very tired of sitting by her sister on the|>was and the was and the was an\n",
      "Batch   62/  62 (epoch   2) loss 2.215\n",
      "Elapsed time for epoch   2: 1.248 s\n",
      "Epoch 2 result ------------------------------\n",
      "alice was beginning to get very tired of sitting by her sister on the|>was and the was and the was an\n",
      "Batch   62/  62 (epoch   3) loss 2.110\n",
      "Elapsed time for epoch   3: 1.385 s\n",
      "Epoch 3 result ------------------------------\n",
      "alice was beginning to get very tired of sitting by her sister on the|>last it was not all the last i\n",
      "Batch   62/  62 (epoch   4) loss 1.988\n",
      "Elapsed time for epoch   4: 1.379 s\n",
      "Epoch 4 result ------------------------------\n",
      "alice was beginning to get very tired of sitting by her sister on the|>was nother she was nother she \n",
      "Batch   62/  62 (epoch   5) loss 1.776\n",
      "Elapsed time for epoch   5: 1.255 s\n",
      "Epoch 5 result ------------------------------\n",
      "alice was beginning to get very tired of sitting by her sister on the|>was not a was not a was not a \n",
      "Batch   62/  62 (epoch   6) loss 1.632\n",
      "Elapsed time for epoch   6: 1.444 s\n",
      "Epoch 6 result ------------------------------\n",
      "alice was beginning to get very tired of sitting by her sister on the|>rabbit-hole, and the rabbit-ho\n",
      "Batch   62/  62 (epoch   7) loss 1.656\n",
      "Elapsed time for epoch   7: 1.328 s\n",
      "Epoch 7 result ------------------------------\n",
      "alice was beginning to get very tired of sitting by her sister on the|>to down a was and was and was \n",
      "Batch   62/  62 (epoch   8) loss 1.718\n",
      "Elapsed time for epoch   8: 1.298 s\n",
      "Epoch 8 result ------------------------------\n",
      "alice was beginning to get very tired of sitting by her sister on the|>was not a to the was not a to \n",
      "Batch   62/  62 (epoch   9) loss 1.602\n",
      "Elapsed time for epoch   9: 1.327 s\n",
      "Epoch 9 result ------------------------------\n",
      "alice was beginning to get very tired of sitting by her sister on the|>was not a lit the was not a li\n",
      "Batch   62/  62 (epoch  10) loss 1.413\n",
      "Elapsed time for epoch  10: 1.397 s\n",
      "Epoch 10 result ------------------------------\n",
      "alice was beginning to get very tired of sitting by her sister on the|>was not a was not a was not a \n",
      "Batch   62/  62 (epoch  11) loss 1.475\n",
      "Elapsed time for epoch  11: 1.383 s\n",
      "Epoch 11 result ------------------------------\n",
      "alice was beginning to get very tired of sitting by her sister on the|>was not a like the was not a l\n",
      "Batch   62/  62 (epoch  12) loss 1.450\n",
      "Elapsed time for epoch  12: 1.291 s\n",
      "Epoch 12 result ------------------------------\n",
      "alice was beginning to get very tired of sitting by her sister on the|>well and her say to her say to\n",
      "Batch   62/  62 (epoch  13) loss 1.494\n",
      "Elapsed time for epoch  13: 1.333 s\n",
      "Epoch 13 result ------------------------------\n",
      "alice was beginning to get very tired of sitting by her sister on the|>tried to the tried to the trie\n",
      "Batch   62/  62 (epoch  14) loss 1.427\n",
      "Elapsed time for epoch  14: 1.373 s\n",
      "Epoch 14 result ------------------------------\n",
      "alice was beginning to get very tired of sitting by her sister on the|>was nothing to the was nothing\n",
      "Batch   62/  62 (epoch  15) loss 1.405\n",
      "Elapsed time for epoch  15: 1.395 s\n",
      "Epoch 15 result ------------------------------\n",
      "alice was beginning to get very tired of sitting by her sister on the|>took a low come to the table o\n",
      "Batch   62/  62 (epoch  16) loss 1.560\n",
      "Elapsed time for epoch  16: 1.359 s\n",
      "Epoch 16 result ------------------------------\n",
      "alice was beginning to get very tired of sitting by her sister on the|>she had not a moment the was n\n",
      "Batch   62/  62 (epoch  17) loss 1.336\n",
      "Elapsed time for epoch  17: 1.315 s\n",
      "Epoch 17 result ------------------------------\n",
      "alice was beginning to get very tired of sitting by her sister on the|>the she saucer there was nothi\n",
      "Batch   62/  62 (epoch  18) loss 1.320\n",
      "Elapsed time for epoch  18: 1.410 s\n",
      "Epoch 18 result ------------------------------\n",
      "alice was beginning to get very tired of sitting by her sister on the|>looked alice was nothing to do\n",
      "Batch   62/  62 (epoch  19) loss 1.389\n",
      "Elapsed time for epoch  19: 1.425 s\n",
      "Epoch 19 result ------------------------------\n",
      "alice was beginning to get very tired of sitting by her sister on the|>was nothing to her great der. \n"
     ]
    }
   ],
   "source": [
    "# Now max_len = 15, shorter to backprop less tsteps\n",
    "char_lstm = charRNN(len(char2idx), rnn_size=100, rnn_dropout=0.)\n",
    "NUM_EPOCHS=20\n",
    "LOG_FREQ=400\n",
    "# we can limit the samples in the dataset to speed up training (this is a toy example, remember)\n",
    "max_samples = 100\n",
    "tr_X = X[:max_samples]\n",
    "opt = optim.RMSprop(char_lstm.parameters(), lr=0.01)\n",
    "beg_t = timeit.default_timer()\n",
    "st_sh_sh_tr_losses = []\n",
    "for epoch in range(NUM_EPOCHS):\n",
    "    # shuffle sentences\n",
    "    shuffle(tr_X)\n",
    "    st_sh_sh_tr_losses += train_stateful_maxlen_batches_epoch(tr_X, 10, 10, epoch, char_lstm, opt, 400)\n",
    "    end_t = timeit.default_timer()\n",
    "    print('Elapsed time for epoch {:3d}: {:.3f} s'.format(epoch, end_t - beg_t))\n",
    "    beg_t = end_t\n",
    "    # see predictions change\n",
    "    print('Epoch {} result {}'.format(epoch, '-' * 30))\n",
    "    print(predict_text_from_seed(char_lstm, text_sents[1], num_preds=30))"
   ]
  },
  {
   "cell_type": "code",
   "execution_count": 41,
   "metadata": {},
   "outputs": [
    {
     "data": {
      "text/plain": [
       "<matplotlib.legend.Legend at 0x11e7aef28>"
      ]
     },
     "execution_count": 41,
     "metadata": {},
     "output_type": "execute_result"
    },
    {
     "data": {
      "image/png": "[encoded data removed]",
      "text/plain": [
       "<matplotlib.figure.Figure at 0x11e64ad68>"
      ]
     },
     "metadata": {},
     "output_type": "display_data"
    }
   ],
   "source": [
    "plt.title('Stateful Batched training curve')\n",
    "plt.ylabel('NLLLoss')\n",
    "plt.xlabel('Log tick of freq {}'.format(LOG_FREQ))\n",
    "plt.plot(b_tr_losses, label='batched learning')\n",
    "plt.plot(st_tr_losses, label='stateful-35 batched learning')\n",
    "plt.plot(st_sh_tr_losses, label='stateful-15 batched learning')\n",
    "plt.plot(st_sh_sh_tr_losses, label='stateful-10 batched learning')\n",
    "plt.plot(tr_losses, label='sample-wise learning')\n",
    "plt.legend()"
   ]
  },
  {
   "cell_type": "code",
   "execution_count": 48,
   "metadata": {},
   "outputs": [
    {
     "name": "stdout",
     "output_type": "stream",
     "text": [
      "Batch   17/  17 (epoch   0) loss 2.412\n",
      "Elapsed time for epoch   0: 1.143 s\n",
      "Epoch 0 result ------------------------------\n",
      "alice was beginning to get very tired of sitting by her sister on the|> to to to to to to to to to to \n",
      "Batch   17/  17 (epoch   1) loss 2.251\n",
      "Elapsed time for epoch   1: 1.187 s\n",
      "Epoch 1 result ------------------------------\n",
      "alice was beginning to get very tired of sitting by her sister on the|> was the was the was the was th\n",
      "Batch   17/  17 (epoch   2) loss 2.094\n",
      "Elapsed time for epoch   2: 1.243 s\n",
      "Epoch 2 result ------------------------------\n",
      "alice was beginning to get very tired of sitting by her sister on the|> was was was a was was a was wa\n",
      "Batch   17/  17 (epoch   3) loss 1.845\n",
      "Elapsed time for epoch   3: 1.556 s\n",
      "Epoch 3 result ------------------------------\n",
      "alice was beginning to get very tired of sitting by her sister on the|> was the was the was the was th\n",
      "Batch   17/  17 (epoch   4) loss 1.687\n",
      "Elapsed time for epoch   4: 1.455 s\n",
      "Epoch 4 result ------------------------------\n",
      "alice was beginning to get very tired of sitting by her sister on the|> was not into the was not into \n",
      "Batch   17/  17 (epoch   5) loss 1.712\n",
      "Elapsed time for epoch   5: 1.248 s\n",
      "Epoch 5 result ------------------------------\n",
      "alice was beginning to get very tired of sitting by her sister on the|> was nothing the was nothe was \n",
      "Batch   17/  17 (epoch   6) loss 1.586\n",
      "Elapsed time for epoch   6: 1.305 s\n",
      "Epoch 6 result ------------------------------\n",
      "alice was beginning to get very tired of sitting by her sister on the|> was nothing the was nothing th\n",
      "Batch   17/  17 (epoch   7) loss 1.458\n",
      "Elapsed time for epoch   7: 1.239 s\n",
      "Epoch 7 result ------------------------------\n",
      "alice was beginning to get very tired of sitting by her sister on the|> was nothing the was nothing th\n",
      "Batch   17/  17 (epoch   8) loss 1.418\n",
      "Elapsed time for epoch   8: 1.265 s\n",
      "Epoch 8 result ------------------------------\n",
      "alice was beginning to get very tired of sitting by her sister on the|> was nothing the was nothing th\n",
      "Batch   17/  17 (epoch   9) loss 1.280\n",
      "Elapsed time for epoch   9: 1.330 s\n",
      "Epoch 9 result ------------------------------\n",
      "alice was beginning to get very tired of sitting by her sister on the|> looked at the looked at the lo\n",
      "Batch   17/  17 (epoch  10) loss 1.337\n",
      "Elapsed time for epoch  10: 1.251 s\n",
      "Epoch 10 result ------------------------------\n",
      "alice was beginning to get very tired of sitting by her sister on the|> was nothing to her fell was no\n",
      "Batch   17/  17 (epoch  11) loss 1.314\n",
      "Elapsed time for epoch  11: 1.290 s\n",
      "Epoch 11 result ------------------------------\n",
      "alice was beginning to get very tired of sitting by her sister on the|> looked at the looked at the lo\n",
      "Batch   17/  17 (epoch  12) loss 1.270\n",
      "Elapsed time for epoch  12: 1.251 s\n",
      "Epoch 12 result ------------------------------\n",
      "alice was beginning to get very tired of sitting by her sister on the|> looked into the looked into th\n",
      "Batch   17/  17 (epoch  13) loss 1.282\n",
      "Elapsed time for epoch  13: 1.254 s\n",
      "Epoch 13 result ------------------------------\n",
      "alice was beginning to get very tired of sitting by her sister on the|> looked at the looked at the lo\n",
      "Batch   17/  17 (epoch  14) loss 1.201\n",
      "Elapsed time for epoch  14: 1.322 s\n",
      "Epoch 14 result ------------------------------\n",
      "alice was beginning to get very tired of sitting by her sister on the|> was just in to her feel very s\n",
      "Batch   17/  17 (epoch  15) loss 1.221\n",
      "Elapsed time for epoch  15: 1.418 s\n",
      "Epoch 15 result ------------------------------\n",
      "alice was beginning to get very tired of sitting by her sister on the|> rabbit was another to the love\n",
      "Batch   17/  17 (epoch  16) loss 1.185\n",
      "Elapsed time for epoch  16: 1.421 s\n",
      "Epoch 16 result ------------------------------\n",
      "alice was beginning to get very tired of sitting by her sister on the|> rabbit-hole, all made of the r\n",
      "Batch   17/  17 (epoch  17) loss 1.202\n",
      "Elapsed time for epoch  17: 1.602 s\n",
      "Epoch 17 result ------------------------------\n",
      "alice was beginning to get very tired of sitting by her sister on the|> way down a large rabbit with t\n",
      "Batch   17/  17 (epoch  18) loss 1.015\n",
      "Elapsed time for epoch  18: 1.636 s\n",
      "Epoch 18 result ------------------------------\n",
      "alice was beginning to get very tired of sitting by her sister on the|> was now that she was now that \n",
      "Batch   17/  17 (epoch  19) loss 1.125\n",
      "Elapsed time for epoch  19: 1.380 s\n",
      "Epoch 19 result ------------------------------\n",
      "alice was beginning to get very tired of sitting by her sister on the|> was considering how she was co\n"
     ]
    }
   ],
   "source": [
    "# Now max_len = 15, shorter to backprop less tsteps\n",
    "char_lstm = charRNN(len(char2idx), rnn_size=100, rnn_dropout=0.)\n",
    "NUM_EPOCHS=20\n",
    "LOG_FREQ=400\n",
    "# we can limit the samples in the dataset to speed up training (this is a toy example, remember)\n",
    "max_samples = 100\n",
    "tr_X = X[:max_samples]\n",
    "opt = optim.RMSprop(char_lstm.parameters(), lr=0.01)\n",
    "beg_t = timeit.default_timer()\n",
    "st_cn_tr_losses = []\n",
    "for epoch in range(NUM_EPOCHS):\n",
    "    # shuffle sentences\n",
    "    shuffle(tr_X)\n",
    "    st_cn_tr_losses += train_stateful_maxlen_batches_epoch(tr_X, 10, 35, epoch, char_lstm, opt, 400, 0.2)\n",
    "    end_t = timeit.default_timer()\n",
    "    print('Elapsed time for epoch {:3d}: {:.3f} s'.format(epoch, end_t - beg_t))\n",
    "    beg_t = end_t\n",
    "    # see predictions change\n",
    "    print('Epoch {} result {}'.format(epoch, '-' * 30))\n",
    "    print(predict_text_from_seed(char_lstm, text_sents[1], num_preds=30))"
   ]
  },
  {
   "cell_type": "code",
   "execution_count": 52,
   "metadata": {},
   "outputs": [
    {
     "name": "stdout",
     "output_type": "stream",
     "text": [
      "she found a door |>about with the table, half however, think it was no\n",
      "she went |>alice was nothing the little the table, half howeve\n",
      "when |>she was considering how she was considering how she\n",
      "a rabbit |>was not a moment. she was not a moment. she was not\n",
      "a golden key |>was nothing the little the table, half however, thi\n"
     ]
    }
   ],
   "source": [
    "print(predict_text_from_seed(char_lstm, 'she found a door ', num_preds=50))\n",
    "print(predict_text_from_seed(char_lstm, 'she went ', num_preds=50))\n",
    "print(predict_text_from_seed(char_lstm, 'when ', num_preds=50))\n",
    "print(predict_text_from_seed(char_lstm, 'a rabbit ', num_preds=50))\n",
    "print(predict_text_from_seed(char_lstm, 'a golden key ', num_preds=50))"
   ]
  },
  {
   "cell_type": "code",
   "execution_count": 44,
   "metadata": {},
   "outputs": [
    {
     "data": {
      "text/plain": [
       "<matplotlib.legend.Legend at 0x11e899cc0>"
      ]
     },
     "execution_count": 44,
     "metadata": {},
     "output_type": "execute_result"
    },
    {
     "data": {
      "image/png": "[encoded data removed]",
      "text/plain": [
       "<matplotlib.figure.Figure at 0x11e64ad30>"
      ]
     },
     "metadata": {},
     "output_type": "display_data"
    }
   ],
   "source": [
    "plt.title('Stateful Batched training curve')\n",
    "plt.ylabel('NLLLoss')\n",
    "plt.xlabel('Log tick of freq {}'.format(LOG_FREQ))\n",
    "plt.plot(b_tr_losses, label='batched learning')\n",
    "plt.plot(st_tr_losses, label='stateful-35 batched learning')\n",
    "plt.plot(st_cn_tr_losses, label='stateful-35 cnorm 0.2 batched learning')\n",
    "plt.plot(st_sh_tr_losses, label='stateful-15 batched learning')\n",
    "plt.plot(st_sh_sh_tr_losses, label='stateful-10 batched learning')\n",
    "plt.plot(tr_losses, label='sample-wise learning')\n",
    "plt.legend()"
   ]
  },
  {
   "cell_type": "markdown",
   "metadata": {},
   "source": [
    "### Proposals to do \n",
    "\n",
    "* Change the dataset into another txt file\n",
    "* Introduce a sequence length filtering in model forward, to **exclude padding positions** in sequence when batching with padding\n",
    "* Implement a noisy initial hidden state with normal distribution ~ N(0, I)\n",
    "* Implement a **learnable initial hidden state** (not just zero vector)\n",
    "* Implement the option to use GRU layers instead of LSTM in the model (BEWARE with cell differences, like states)\n",
    "* Implement the option to use RNN layers instead of LSTM in the model (BEWARE with cell differences, like states)\n",
    "* Compare the **performance of RNN vs GRU vs LSTM**, training for 20 epochs with the desired amount of data\n",
    "* Implement **stateful batched trainer** method (making sample i-th from batch b-th continue in sample i-th from batch (b+1)-th"
   ]
  }
 ],
 "metadata": {
  "kernelspec": {
   "display_name": "Python 3",
   "language": "python",
   "name": "python3"
  },
  "language_info": {
   "codemirror_mode": {
    "name": "ipython",
    "version": 3
   },
   "file_extension": ".py",
   "mimetype": "text/x-python",
   "name": "python",
   "nbconvert_exporter": "python",
   "pygments_lexer": "ipython3",
   "version": "3.6.1"
  }
 },
 "nbformat": 4,
 "nbformat_minor": 2
}
